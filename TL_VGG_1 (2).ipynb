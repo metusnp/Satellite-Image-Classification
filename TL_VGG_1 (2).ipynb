{
 "cells": [
  {
   "cell_type": "code",
   "execution_count": 3,
   "metadata": {
    "scrolled": true
   },
   "outputs": [
    {
     "name": "stdout",
     "output_type": "stream",
     "text": [
      "Processed 0 of 45\n",
      "Processed 1 of 45\n",
      "Processed 2 of 45\n",
      "Processed 3 of 45\n",
      "Processed 4 of 45\n",
      "Processed 5 of 45\n",
      "Processed 6 of 45\n",
      "Processed 7 of 45\n",
      "Processed 8 of 45\n",
      "Processed 9 of 45\n",
      "Processed 10 of 45\n",
      "Processed 11 of 45\n",
      "Processed 12 of 45\n",
      "Processed 13 of 45\n",
      "Processed 14 of 45\n",
      "Processed 15 of 45\n",
      "Processed 16 of 45\n",
      "Processed 17 of 45\n",
      "Processed 18 of 45\n",
      "Processed 19 of 45\n",
      "Processed 20 of 45\n",
      "Processed 21 of 45\n",
      "Processed 22 of 45\n",
      "Processed 23 of 45\n",
      "Processed 24 of 45\n",
      "Processed 25 of 45\n",
      "Processed 26 of 45\n",
      "Processed 27 of 45\n",
      "Processed 28 of 45\n",
      "Processed 29 of 45\n",
      "Processed 30 of 45\n",
      "Processed 31 of 45\n",
      "Processed 32 of 45\n",
      "Processed 33 of 45\n",
      "Processed 34 of 45\n",
      "Processed 35 of 45\n",
      "Processed 36 of 45\n",
      "Processed 37 of 45\n",
      "Processed 38 of 45\n",
      "Processed 39 of 45\n",
      "Processed 40 of 45\n",
      "Processed 41 of 45\n",
      "Processed 42 of 45\n",
      "Processed 43 of 45\n",
      "Processed 44 of 45\n",
      "Processed 0 of 6\n",
      "Processed 1 of 6\n",
      "Processed 2 of 6\n",
      "Processed 3 of 6\n",
      "Processed 4 of 6\n",
      "Processed 5 of 6\n",
      "Train shape: (45, 3, 224, 224)\n",
      "Test shape:  (6, 3, 224, 224)\n"
     ]
    }
   ],
   "source": [
    "import keras\n",
    "from keras.utils import plot_model\n",
    "import numpy as np \n",
    "import pandas as pd\n",
    "from PIL import Image, ImageFilter\n",
    "import os, random\n",
    "from keras.models import Sequential\n",
    "from keras.layers import    Input, Dropout, Flatten, Convolution2D, MaxPooling2D, Dense, Activation\n",
    "import matplotlib.pyplot as plt \n",
    "%matplotlib inline\n",
    "\n",
    "TRAIN_DIR = 'C:/Users/hp/Desktop/satellite/train/'\n",
    "TEST_DIR = 'C:/Users/hp/Desktop/satellite/test/'\n",
    "\n",
    "ROWS = 224\n",
    "COLS = 224\n",
    "\n",
    "CHANNELS = 3\n",
    "#print(os.listdir(TRAIN_DIR))\n",
    "#print()\n",
    "#print(os.listdir(TEST_DIR))\n",
    "#print()\n",
    "train_images = [TRAIN_DIR + i for i in os.listdir(TRAIN_DIR)]\n",
    "test_images = [TEST_DIR + i for i in os.listdir(TEST_DIR)]\n",
    "#print(train_images)\n",
    "#print()\n",
    "#print(test_images)\n",
    "#print()\n",
    "def read_image(file_path):\n",
    "    img = Image.open(file_path)\n",
    "    im=img.convert(\"L\")\n",
    "    return im.resize((ROWS, COLS), Image.BICUBIC)\n",
    "\n",
    "    \n",
    "def prep_data(images):\n",
    "    count = len(images)\n",
    "    data = np.ndarray((count, CHANNELS, ROWS, COLS), dtype = np.uint8)\n",
    "    \n",
    "    for i, image_file in enumerate(images):\n",
    "        image = read_image(image_file)\n",
    "        image = image.transpose(Image.ROTATE_90)\n",
    "        data[i]=image.transpose(Image.FLIP_LEFT_RIGHT)\n",
    "        \n",
    "        if i % 1 == 0:\n",
    "            print ('Processed {} of {}'.format(i, count))\n",
    "            \n",
    "    return data\n",
    "\n",
    "train = prep_data(train_images)\n",
    "test = prep_data(test_images)\n",
    "\n",
    "print(\"Train shape: {}\".format(train.shape))\n",
    "print(\"Test shape:  {}\".format(test.shape))"
   ]
  },
  {
   "cell_type": "code",
   "execution_count": 4,
   "metadata": {
    "scrolled": true
   },
   "outputs": [
    {
     "name": "stdout",
     "output_type": "stream",
     "text": [
      "[0 0 0 0 0 0 0 0 0 0 0 0 0 0 0 1 1 1 1 1 1 1 1 1 1 1 1 1 1 1 2 2 2 2 2 2 2\n",
      " 2 2 2 2 2 2 2 2]\n",
      "[0 0 1 1 2 2]\n"
     ]
    }
   ],
   "source": [
    "labels = []\n",
    "for i in train_images:\n",
    "    if 'agricultural' in i:\n",
    "        labels.append(0)\n",
    "    elif 'forest' in i:\n",
    "        labels.append(1)\n",
    "    else:\n",
    "        labels.append(2)\n",
    "        \n",
    "train = train.reshape(-1,224,224,3)\n",
    "test = test.reshape(-1,224, 224, 3)\n",
    "X_train = train.astype('float32')\n",
    "X_test = test.astype('float32')\n",
    "X_train /= 255\n",
    "X_test /= 255\n",
    "Y_train = labels\n",
    "X_train=np.array(X_train)\n",
    "X_test=np.array(X_test)\n",
    "Y_train=np.array(Y_train)\n",
    "print(Y_train)\n",
    "labels_test = []\n",
    "for i in test_images:\n",
    "    if 'agricultural' in i:\n",
    "        labels_test.append(0)\n",
    "    elif 'forest' in i:\n",
    "        labels_test.append(1)\n",
    "    else:\n",
    "        labels_test.append(2)\n",
    "Y_test = labels_test\n",
    "Y_test = np.array(Y_test)\n",
    "print(Y_test)"
   ]
  },
  {
   "cell_type": "code",
   "execution_count": 5,
   "metadata": {
    "collapsed": true
   },
   "outputs": [],
   "source": [
    "from keras.applications.vgg16 import VGG16, preprocess_input, decode_predictions\n",
    "from keras.preprocessing import image\n",
    "model = VGG16(weights='imagenet', include_top=False)"
   ]
  },
  {
   "cell_type": "code",
   "execution_count": 6,
   "metadata": {},
   "outputs": [
    {
     "name": "stdout",
     "output_type": "stream",
     "text": [
      "Training matrix shape  (45, 224, 224, 3)\n",
      "Testing matrix shape   (6, 224, 224, 3)\n"
     ]
    }
   ],
   "source": [
    "print(\"Training matrix shape \", X_train.shape) #  m X features\n",
    "print(\"Testing matrix shape  \", X_test.shape) #  m X features"
   ]
  },
  {
   "cell_type": "code",
   "execution_count": null,
   "metadata": {
    "scrolled": true
   },
   "outputs": [],
   "source": [
    "features_x=model.predict(X_train)\n",
    "print(features_x.shape)\n",
    "X_train = features_x.reshape(45,25088)\n",
    "print(X_train.shape)"
   ]
  },
  {
   "cell_type": "code",
   "execution_count": 14,
   "metadata": {},
   "outputs": [
    {
     "name": "stdout",
     "output_type": "stream",
     "text": [
      "(6, 7, 7, 512)\n",
      "(6, 25088)\n"
     ]
    }
   ],
   "source": [
    "features_xtest=model.predict(X_test)\n",
    "print(features_xtest.shape)\n",
    "X_test=features_xtest.reshape(6,25088)\n",
    "print(X_test.shape)"
   ]
  },
  {
   "cell_type": "code",
   "execution_count": 15,
   "metadata": {},
   "outputs": [
    {
     "name": "stdout",
     "output_type": "stream",
     "text": [
      "Epoch 1/6\n",
      "45/45 [==============================] - 1s 13ms/step - loss: 0.9780 - acc: 0.4889\n",
      "Epoch 2/6\n",
      "45/45 [==============================] - 0s 4ms/step - loss: 0.1872 - acc: 0.9778\n",
      "Epoch 3/6\n",
      "45/45 [==============================] - 0s 4ms/step - loss: 0.0849 - acc: 1.0000\n",
      "Epoch 4/6\n",
      "45/45 [==============================] - 0s 5ms/step - loss: 0.0505 - acc: 1.0000\n",
      "Epoch 5/6\n",
      "45/45 [==============================] - 0s 4ms/step - loss: 0.0404 - acc: 1.0000\n",
      "Epoch 6/6\n",
      "45/45 [==============================] - 0s 4ms/step - loss: 0.0293 - acc: 1.0000\n"
     ]
    },
    {
     "data": {
      "text/plain": [
       "<keras.callbacks.History at 0x121b60518>"
      ]
     },
     "execution_count": 15,
     "metadata": {},
     "output_type": "execute_result"
    }
   ],
   "source": [
    "model=Sequential()\n",
    "\n",
    "model.add(Dense(256, input_dim=25088, activation='relu',kernel_initializer='glorot_uniform'))\n",
    "keras.layers.core.Dropout(0.3, noise_shape=None, seed=None)\n",
    "model.add(keras.layers.BatchNormalization(axis=-1, momentum=0.99, epsilon=0.001, center=True, scale=True, beta_initializer='zeros', gamma_initializer='ones', moving_mean_initializer='zeros', moving_variance_initializer='ones', beta_regularizer=None, gamma_regularizer=None, beta_constraint=None, gamma_constraint=None))\n",
    "\n",
    "model.add(Dense(128,input_dim=256,activation='sigmoid'))\n",
    "keras.layers.core.Dropout(0.4, noise_shape=None, seed=None)\n",
    "\n",
    "#model.add(Dense(4096,input_dim=4096,activation='sigmoid'))\n",
    "#keras.layers.core.Dropout(0.2, noise_shape=None, seed=None)\n",
    "\n",
    "#model.add(Dense(4096,input_dim=1024,activation='relu'))\n",
    "#keras.layers.core.Dropout(0.2, noise_shape=None, seed=None)\n",
    "#sgd = keras.optimizers.SGD(lr=0.0001, decay=1e-6, momentum=0.9, nesterov=True)\n",
    "\n",
    "model.add(Dense(3,input_dim=128,activation='softmax'))\n",
    "model.compile(loss='sparse_categorical_crossentropy', optimizer='rmsprop', metrics=['accuracy'])\n",
    "\n",
    "# fitting the model \n",
    "\n",
    "hist=model.fit(X_train, Y_train, epochs=6)"
   ]
  },
  {
   "cell_type": "code",
   "execution_count": 16,
   "metadata": {},
   "outputs": [
    {
     "name": "stdout",
     "output_type": "stream",
     "text": [
      "6/6 [==============================] - 0s 12ms/step\n",
      "6/6 [==============================] - 0s 13ms/step\n",
      "[0.3859741985797882, 0.8333333134651184]\n",
      "Y_test [0 2 1 0 1 2]\n",
      "Predicted [[6.4170784e-01 8.4094994e-02 2.7419716e-01]\n",
      " [9.8299072e-04 7.3418822e-03 9.9167514e-01]\n",
      " [2.4054376e-03 3.0264056e-01 6.9495404e-01]\n",
      " [6.4809352e-01 6.0397446e-02 2.9150906e-01]\n",
      " [2.0827956e-03 8.1890064e-01 1.7901652e-01]\n",
      " [2.1066688e-02 1.3464196e-02 9.6546912e-01]]\n"
     ]
    }
   ],
   "source": [
    "model.save('final_model.h5')\n",
    "plot_model(model, to_file='model.png')\n",
    "\n",
    "from sklearn.metrics import log_loss\n",
    "pred = model.predict(X_test, batch_size=32, verbose=1)\n",
    "print(model.evaluate(X_test,Y_test))\n",
    "print(\"Y_test\", Y_test)\n",
    "print(\"Predicted\", np.array(pred))"
   ]
  },
  {
   "cell_type": "code",
   "execution_count": null,
   "metadata": {
    "collapsed": true
   },
   "outputs": [],
   "source": []
  }
 ],
 "metadata": {
  "kernelspec": {
   "display_name": "Python 3",
   "language": "python",
   "name": "python3"
  },
  "language_info": {
   "codemirror_mode": {
    "name": "ipython",
    "version": 3
   },
   "file_extension": ".py",
   "mimetype": "text/x-python",
   "name": "python",
   "nbconvert_exporter": "python",
   "pygments_lexer": "ipython3",
   "version": "3.6.4"
  }
 },
 "nbformat": 4,
 "nbformat_minor": 2
}
